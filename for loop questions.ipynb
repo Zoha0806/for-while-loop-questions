{
 "cells": [
  {
   "cell_type": "code",
   "execution_count": 1,
   "id": "921e69de-afbf-48d4-adca-106670f6cbce",
   "metadata": {},
   "outputs": [
    {
     "name": "stdout",
     "output_type": "stream",
     "text": [
      "the grey man: 0\n",
      "beast: 1\n",
      "uncharted: 2\n",
      "extraction: 3\n"
     ]
    }
   ],
   "source": [
    "# List Iteration\n",
    "favourite_movies=['the grey man','beast','uncharted','extraction']\n",
    "for index, movie in enumerate(favourite_movies):\n",
    "    print(f\"{movie}: {index}\")"
   ]
  },
  {
   "cell_type": "code",
   "execution_count": 3,
   "id": "2f7abb50-02ba-4ab1-afa8-0a9ac5857ec5",
   "metadata": {},
   "outputs": [
    {
     "name": "stdout",
     "output_type": "stream",
     "text": [
      "thirteen lives: 0\n",
      "the wanted house: 1\n",
      "jurassic world: 2\n"
     ]
    }
   ],
   "source": [
    "# List Iteration\n",
    "favourite_movies=['thirteen lives','the wanted house','jurassic world']\n",
    "for i in range(len(favourite_movies)):\n",
    "    print(f\"{favourite_movies[i]}: {i}\")"
   ]
  },
  {
   "cell_type": "code",
   "execution_count": 5,
   "id": "05aec8f8-b0c5-4018-87a9-d81745d903f3",
   "metadata": {},
   "outputs": [
    {
     "name": "stdout",
     "output_type": "stream",
     "text": [
      "z\n",
      "o\n",
      "h\n",
      "a\n",
      " \n",
      "s\n",
      "h\n",
      "o\n",
      "a\n",
      "i\n",
      "b\n",
      "No. of vowels: 5\n"
     ]
    }
   ],
   "source": [
    "# String Iteration\n",
    "full_name='zoha shoaib'\n",
    "for char in full_name:\n",
    "    print(char)\n",
    "vowels='aeiou'\n",
    "count=0\n",
    "for char in full_name:\n",
    "    if char in vowels:\n",
    "        count+=1\n",
    "print('No. of vowels:', count)"
   ]
  },
  {
   "cell_type": "code",
   "execution_count": 7,
   "id": "d49bc8e3-0986-4e11-bd36-bfe19c86c7d8",
   "metadata": {},
   "outputs": [
    {
     "name": "stdout",
     "output_type": "stream",
     "text": [
      "\n",
      "Zoha\n",
      "87\n",
      "\n",
      "Ayesha\n",
      "98\n",
      "\n",
      "Maham\n",
      "79\n",
      "\n",
      "Maryam\n",
      "90\n",
      "\n",
      "Student with highest grade: Ayesha\n"
     ]
    }
   ],
   "source": [
    "# Dictionary Iteration\n",
    "students_grades={'Zoha':87,'Ayesha':98,'Maham':79,'Maryam':90}\n",
    "for name, grade in students_grades.items():\n",
    "    print(f\"\\n{name}\")\n",
    "    print(grade)\n",
    "highest_grade=max(students_grades.values())\n",
    "for name, grade in students_grades.items():\n",
    "    if grade==highest_grade:\n",
    "        print(f\"\\nStudent with highest grade: {name}\")"
   ]
  },
  {
   "cell_type": "code",
   "execution_count": 9,
   "id": "16be33c0-e121-48b5-a714-95d68ae17d33",
   "metadata": {},
   "outputs": [
    {
     "name": "stdout",
     "output_type": "stream",
     "text": [
      "1 2 3 \n",
      "4 5 6 \n",
      "7 8 9 \n",
      "Sum of all elements in matrix: 45\n"
     ]
    }
   ],
   "source": [
    "# Nested for loops\n",
    "matrix=[\n",
    "    [1,2,3],\n",
    "    [4,5,6],\n",
    "    [7,8,9]\n",
    "]\n",
    "for row in matrix:\n",
    "    for cell in row:\n",
    "        print(cell, end=' ')\n",
    "    print()\n",
    "sum=0\n",
    "for row in matrix:\n",
    "    for cell in row:\n",
    "        sum+=cell\n",
    "print('Sum of all elements in matrix:',sum)"
   ]
  },
  {
   "cell_type": "code",
   "execution_count": 13,
   "id": "85169afb-e83f-462f-a396-a7b9da33fc41",
   "metadata": {},
   "outputs": [
    {
     "name": "stdout",
     "output_type": "stream",
     "text": [
      "Using for loop: [1, 4, 9, 16, 25, 36, 49, 64, 81, 100]\n",
      "Using list comprehension: [1, 4, 9, 16, 25, 36, 49, 64, 81, 100]\n"
     ]
    }
   ],
   "source": [
    "# Printing squares\n",
    "# Using for loop\n",
    "squares=[]\n",
    "for i in range(1,11):\n",
    "    squares.append(i**2)\n",
    "print('Using for loop:',squares)\n",
    "# Using List Comprehension\n",
    "squares=[i**2 for i in range(1,11)]\n",
    "print('Using list comprehension:',squares)"
   ]
  },
  {
   "cell_type": "code",
   "execution_count": null,
   "id": "e7b6eb11-a18f-4c77-b2a0-264b9fb114b9",
   "metadata": {},
   "outputs": [],
   "source": []
  }
 ],
 "metadata": {
  "kernelspec": {
   "display_name": "Python 3 (ipykernel)",
   "language": "python",
   "name": "python3"
  },
  "language_info": {
   "codemirror_mode": {
    "name": "ipython",
    "version": 3
   },
   "file_extension": ".py",
   "mimetype": "text/x-python",
   "name": "python",
   "nbconvert_exporter": "python",
   "pygments_lexer": "ipython3",
   "version": "3.12.4"
  }
 },
 "nbformat": 4,
 "nbformat_minor": 5
}
