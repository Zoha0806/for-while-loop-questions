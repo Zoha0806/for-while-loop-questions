{
 "cells": [
  {
   "cell_type": "code",
   "execution_count": 3,
   "id": "25228f93-9b4c-47a1-a36b-990dda57e866",
   "metadata": {},
   "outputs": [
    {
     "name": "stdout",
     "output_type": "stream",
     "text": [
      "1\n",
      "2\n",
      "3\n",
      "4\n",
      "5\n",
      "6\n",
      "7\n",
      "8\n",
      "9\n",
      "10\n"
     ]
    }
   ],
   "source": [
    "# 1. Counting with while loop\n",
    "count=1\n",
    "while count<=10:\n",
    "    print(count)\n",
    "    count+=1"
   ]
  },
  {
   "cell_type": "code",
   "execution_count": 5,
   "id": "0217cf02-8978-4cb8-a05d-7fa0364ff826",
   "metadata": {},
   "outputs": [
    {
     "name": "stdout",
     "output_type": "stream",
     "text": [
      "2\n",
      "4\n",
      "6\n",
      "8\n",
      "10\n",
      "12\n",
      "14\n",
      "16\n",
      "18\n",
      "20\n"
     ]
    }
   ],
   "source": [
    "# 2. Even numbers\n",
    "count=1\n",
    "while count<=20:\n",
    "    if count%2==0:\n",
    "        print(count)\n",
    "    count+=1"
   ]
  },
  {
   "cell_type": "code",
   "execution_count": 7,
   "id": "fbddaf79-e3a8-407f-bb0d-93f5475a8461",
   "metadata": {},
   "outputs": [
    {
     "name": "stdout",
     "output_type": "stream",
     "text": [
      "The sum of first 10 natural numbers: 55\n"
     ]
    }
   ],
   "source": [
    "# 3. Sum of Natural numbers\n",
    "count=1\n",
    "sum=0\n",
    "while count<=10:\n",
    "    sum+=count\n",
    "    count+=1\n",
    "print('The sum of first 10 natural numbers:',sum)"
   ]
  },
  {
   "cell_type": "code",
   "execution_count": 9,
   "id": "3f401754-989b-4708-ba33-02d1abc6ebd5",
   "metadata": {},
   "outputs": [
    {
     "name": "stdin",
     "output_type": "stream",
     "text": [
      "Enter number: 25\n",
      "Enter number: 8\n",
      "Enter number: 9\n",
      "Enter number: -5\n"
     ]
    },
    {
     "name": "stdout",
     "output_type": "stream",
     "text": [
      "Sum of entered numbers: 42\n"
     ]
    }
   ],
   "source": [
    "# 4. User input with Condition\n",
    "sum=0\n",
    "while True:\n",
    "    number=int(input('Enter number:'))\n",
    "    if number<0:\n",
    "        break\n",
    "    sum+=number\n",
    "print('Sum of entered numbers:',sum)"
   ]
  },
  {
   "cell_type": "code",
   "execution_count": 13,
   "id": "c7ec6bb8-fb74-4fca-ad4c-cc6a1a9b5073",
   "metadata": {},
   "outputs": [
    {
     "name": "stdin",
     "output_type": "stream",
     "text": [
      "Guess number between 1 and 100: 25\n"
     ]
    },
    {
     "name": "stdout",
     "output_type": "stream",
     "text": [
      "Lower than correct guess\n"
     ]
    },
    {
     "name": "stdin",
     "output_type": "stream",
     "text": [
      "Guess number between 1 and 100: 91\n"
     ]
    },
    {
     "name": "stdout",
     "output_type": "stream",
     "text": [
      "Higher than correct guess\n"
     ]
    },
    {
     "name": "stdin",
     "output_type": "stream",
     "text": [
      "Guess number between 1 and 100: 60\n"
     ]
    },
    {
     "name": "stdout",
     "output_type": "stream",
     "text": [
      "You have guessed right\n"
     ]
    }
   ],
   "source": [
    "# 5. Number Guessing Game\n",
    "correct_number=60\n",
    "guess=0\n",
    "while True:\n",
    "    guess=int(input('Guess number between 1 and 100:'))\n",
    "    if guess==correct_number:\n",
    "        print('You have guessed right')\n",
    "        break\n",
    "    elif guess<correct_number:\n",
    "        print('Lower than correct guess')\n",
    "    else:\n",
    "        print('Higher than correct guess')"
   ]
  },
  {
   "cell_type": "code",
   "execution_count": 15,
   "id": "d5aba590-74f9-45f8-aacc-4dad51d28ee2",
   "metadata": {},
   "outputs": [
    {
     "name": "stdin",
     "output_type": "stream",
     "text": [
      "Enter a positive integer: 4\n"
     ]
    },
    {
     "name": "stdout",
     "output_type": "stream",
     "text": [
      "Factorial: 24\n"
     ]
    }
   ],
   "source": [
    "# 6. Factorial Calculation\n",
    "number=int(input('Enter a positive integer:'))\n",
    "factorial=1\n",
    "while number>0:\n",
    "    factorial*=number\n",
    "    number-=1\n",
    "print('Factorial:',factorial)"
   ]
  },
  {
   "cell_type": "code",
   "execution_count": 17,
   "id": "6e8577d0-3cd4-4143-93d4-033cde14a6f7",
   "metadata": {},
   "outputs": [
    {
     "name": "stdin",
     "output_type": "stream",
     "text": [
      "Enter a number or('done' to finish): 56\n",
      "Enter a number or('done' to finish): 57\n",
      "Enter a number or('done' to finish): 55\n",
      "Enter a number or('done' to finish): done\n"
     ]
    },
    {
     "name": "stdout",
     "output_type": "stream",
     "text": [
      "Average: 56.0\n"
     ]
    }
   ],
   "source": [
    "# 7. Average Calculator\n",
    "total=0\n",
    "count=0\n",
    "while True:\n",
    "    number=input(\"Enter a number or('done' to finish):\")\n",
    "    if number.lower()=='done':\n",
    "        break\n",
    "    else:\n",
    "        total+=float(number)\n",
    "        count+=1\n",
    "print('Average:', total/count)"
   ]
  },
  {
   "cell_type": "code",
   "execution_count": 29,
   "id": "3fedf97c-f020-466c-b117-bf5ec5ea1739",
   "metadata": {},
   "outputs": [
    {
     "name": "stdin",
     "output_type": "stream",
     "text": [
      "Enter a number: 25\n"
     ]
    },
    {
     "name": "stdout",
     "output_type": "stream",
     "text": [
      "0 1 1 2 3 5 8 13 21 "
     ]
    }
   ],
   "source": [
    "# 8. Fibonacci Sequence\n",
    "n=int(input('Enter a number:'))\n",
    "a, b = 0, 1\n",
    "while a<=n:\n",
    "    print(a, end=' ')\n",
    "    a, b = b, a+b"
   ]
  }
 ],
 "metadata": {
  "kernelspec": {
   "display_name": "Python 3 (ipykernel)",
   "language": "python",
   "name": "python3"
  },
  "language_info": {
   "codemirror_mode": {
    "name": "ipython",
    "version": 3
   },
   "file_extension": ".py",
   "mimetype": "text/x-python",
   "name": "python",
   "nbconvert_exporter": "python",
   "pygments_lexer": "ipython3",
   "version": "3.12.4"
  }
 },
 "nbformat": 4,
 "nbformat_minor": 5
}
